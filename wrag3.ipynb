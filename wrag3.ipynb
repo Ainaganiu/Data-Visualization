{
 "cells": [
  {
   "cell_type": "code",
   "execution_count": 6,
   "metadata": {},
   "outputs": [],
   "source": [
    "from bs4 import BeautifulSoup\n",
    "import requests"
   ]
  },
  {
   "cell_type": "code",
   "execution_count": 126,
   "metadata": {},
   "outputs": [],
   "source": [
    "url = 'https://www.bbc.com/sport/football/premier-league/top-scorers'\n"
   ]
  },
  {
   "cell_type": "code",
   "execution_count": 127,
   "metadata": {},
   "outputs": [],
   "source": [
    "page = requests.get(url)"
   ]
  },
  {
   "cell_type": "code",
   "execution_count": 128,
   "metadata": {},
   "outputs": [
    {
     "data": {
      "text/plain": [
       "<Response [200]>"
      ]
     },
     "execution_count": 128,
     "metadata": {},
     "output_type": "execute_result"
    }
   ],
   "source": [
    "page"
   ]
  },
  {
   "cell_type": "code",
   "execution_count": 129,
   "metadata": {},
   "outputs": [],
   "source": [
    "soup = BeautifulSoup(page.content, 'html.parser')"
   ]
  },
  {
   "cell_type": "code",
   "execution_count": 155,
   "metadata": {},
   "outputs": [],
   "source": [
    "lists = soup.find_all('div', class_='qa-scorers-table')\n"
   ]
  },
  {
   "cell_type": "code",
   "execution_count": 161,
   "metadata": {},
   "outputs": [
    {
     "name": "stdout",
     "output_type": "stream",
     "text": [
      "<div class=\"sp-c-top-scorers__teams\" data-reactid=\".16u0kmzymec.1.0.1.1.0.0.1.$PO118748.1.0.1\"><span class=\"sp-c-abbreviation-switcher\" data-reactid=\".16u0kmzymec.1.0.1.1.0.0.1.$PO118748.1.0.1.0\"><span class=\"gs-u-vh gs-u-display-inherit@m\" data-reactid=\".16u0kmzymec.1.0.1.1.0.0.1.$PO118748.1.0.1.0.0\">Liverpool</span><span aria-hidden=\"true\" class=\"gs-u-vh@m\" data-nosnippet=\"true\" data-reactid=\".16u0kmzymec.1.0.1.1.0.0.1.$PO118748.1.0.1.0.1:$m\">Liverpool</span></span></div>\n"
     ]
    }
   ],
   "source": [
    "for list in lists:\n",
    "    Rank = list.find('div', class_='sp-c-top-scorers__teams')\n",
    "    print(Rank)"
   ]
  },
  {
   "cell_type": "code",
   "execution_count": null,
   "metadata": {},
   "outputs": [],
   "source": []
  }
 ],
 "metadata": {
  "interpreter": {
   "hash": "8fac594bfae6525c0c41b4041d2d72effa188cc8ead05f81b1fab2bb098927fb"
  },
  "kernelspec": {
   "display_name": "Python 3.9.7 64-bit ('base': conda)",
   "language": "python",
   "name": "python3"
  },
  "language_info": {
   "codemirror_mode": {
    "name": "ipython",
    "version": 3
   },
   "file_extension": ".py",
   "mimetype": "text/x-python",
   "name": "python",
   "nbconvert_exporter": "python",
   "pygments_lexer": "ipython3",
   "version": "3.9.7"
  },
  "orig_nbformat": 4
 },
 "nbformat": 4,
 "nbformat_minor": 2
}
