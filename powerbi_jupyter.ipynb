{
 "cells": [
  {
   "cell_type": "code",
   "execution_count": 2,
   "metadata": {},
   "outputs": [],
   "source": [
    "# Let install the Power BI client \n",
    "from powerbiclient.authentication import DeviceCodeLoginAuthentication\n",
    "from powerbiclient import Report, models\n",
    "from io import StringIO\n",
    "from ipywidgets import interact\n",
    "import requests\n",
    "import pandas as pd\n",
    "import matplotlib\n",
    "from powerbiclient import Report, models\n"
   ]
  },
  {
   "cell_type": "code",
   "execution_count": 3,
   "metadata": {},
   "outputs": [
    {
     "name": "stdout",
     "output_type": "stream",
     "text": [
      "Performing device flow authentication. Please follow the instructions below.\n",
      "To sign in, use a web browser to open the page https://microsoft.com/devicelogin and enter the code DSKXEQBYC to authenticate.\n",
      "\n",
      "Device flow authentication successfully completed.\n",
      "You are now logged in .\n",
      "\n",
      "The result should be passed only to trusted code in your notebook.\n"
     ]
    }
   ],
   "source": [
    "# Auth object for demo\n",
    "auth = DeviceCodeLoginAuthentication()"
   ]
  },
  {
   "cell_type": "code",
   "execution_count": 4,
   "metadata": {},
   "outputs": [],
   "source": [
    "# Let install other Power BI client packages \n",
    "from powerbiclient import QuickVisualize, get_dataset_config, Report\n",
    "from powerbiclient.authentication import DeviceCodeLoginAuthentication"
   ]
  },
  {
   "cell_type": "code",
   "execution_count": 5,
   "metadata": {},
   "outputs": [],
   "source": [
    "import pandas as pd\n",
    "import matplotlib.pyplot as plt"
   ]
  },
  {
   "cell_type": "code",
   "execution_count": 6,
   "metadata": {},
   "outputs": [
    {
     "data": {
      "text/html": [
       "<div>\n",
       "<style scoped>\n",
       "    .dataframe tbody tr th:only-of-type {\n",
       "        vertical-align: middle;\n",
       "    }\n",
       "\n",
       "    .dataframe tbody tr th {\n",
       "        vertical-align: top;\n",
       "    }\n",
       "\n",
       "    .dataframe thead th {\n",
       "        text-align: right;\n",
       "    }\n",
       "</style>\n",
       "<table border=\"1\" class=\"dataframe\">\n",
       "  <thead>\n",
       "    <tr style=\"text-align: right;\">\n",
       "      <th></th>\n",
       "      <th>Unnamed: 0</th>\n",
       "      <th>region</th>\n",
       "      <th>country</th>\n",
       "      <th>emissions</th>\n",
       "      <th>type</th>\n",
       "      <th>segment</th>\n",
       "      <th>reason</th>\n",
       "      <th>baseYear</th>\n",
       "      <th>notes</th>\n",
       "    </tr>\n",
       "  </thead>\n",
       "  <tbody>\n",
       "    <tr>\n",
       "      <th>0</th>\n",
       "      <td>0</td>\n",
       "      <td>Africa</td>\n",
       "      <td>Algeria</td>\n",
       "      <td>257.611206</td>\n",
       "      <td>Agriculture</td>\n",
       "      <td>Total</td>\n",
       "      <td>All</td>\n",
       "      <td>2019-2021</td>\n",
       "      <td>Average based on United Nations Framework Conv...</td>\n",
       "    </tr>\n",
       "    <tr>\n",
       "      <th>1</th>\n",
       "      <td>1</td>\n",
       "      <td>Africa</td>\n",
       "      <td>Algeria</td>\n",
       "      <td>0.052000</td>\n",
       "      <td>Energy</td>\n",
       "      <td>Bioenergy</td>\n",
       "      <td>All</td>\n",
       "      <td>2022</td>\n",
       "      <td>Estimates from end-uses are for 2020 or 2021 (...</td>\n",
       "    </tr>\n",
       "    <tr>\n",
       "      <th>2</th>\n",
       "      <td>2</td>\n",
       "      <td>Africa</td>\n",
       "      <td>Algeria</td>\n",
       "      <td>130.798996</td>\n",
       "      <td>Energy</td>\n",
       "      <td>Gas pipelines and LNG facilities</td>\n",
       "      <td>Fugitive</td>\n",
       "      <td>2022</td>\n",
       "      <td>Not available</td>\n",
       "    </tr>\n",
       "    <tr>\n",
       "      <th>3</th>\n",
       "      <td>3</td>\n",
       "      <td>Africa</td>\n",
       "      <td>Algeria</td>\n",
       "      <td>69.741898</td>\n",
       "      <td>Energy</td>\n",
       "      <td>Gas pipelines and LNG facilities</td>\n",
       "      <td>Vented</td>\n",
       "      <td>2022</td>\n",
       "      <td>Not available</td>\n",
       "    </tr>\n",
       "    <tr>\n",
       "      <th>4</th>\n",
       "      <td>4</td>\n",
       "      <td>Africa</td>\n",
       "      <td>Algeria</td>\n",
       "      <td>213.987000</td>\n",
       "      <td>Energy</td>\n",
       "      <td>Onshore gas</td>\n",
       "      <td>Fugitive</td>\n",
       "      <td>2022</td>\n",
       "      <td>Not available</td>\n",
       "    </tr>\n",
       "  </tbody>\n",
       "</table>\n",
       "</div>"
      ],
      "text/plain": [
       "   Unnamed: 0  region  country   emissions         type   \n",
       "0           0  Africa  Algeria  257.611206  Agriculture  \\\n",
       "1           1  Africa  Algeria    0.052000       Energy   \n",
       "2           2  Africa  Algeria  130.798996       Energy   \n",
       "3           3  Africa  Algeria   69.741898       Energy   \n",
       "4           4  Africa  Algeria  213.987000       Energy   \n",
       "\n",
       "                            segment    reason   baseYear   \n",
       "0                             Total       All  2019-2021  \\\n",
       "1                         Bioenergy       All       2022   \n",
       "2  Gas pipelines and LNG facilities  Fugitive       2022   \n",
       "3  Gas pipelines and LNG facilities    Vented       2022   \n",
       "4                       Onshore gas  Fugitive       2022   \n",
       "\n",
       "                                               notes  \n",
       "0  Average based on United Nations Framework Conv...  \n",
       "1  Estimates from end-uses are for 2020 or 2021 (...  \n",
       "2                                      Not available  \n",
       "3                                      Not available  \n",
       "4                                      Not available  "
      ]
     },
     "execution_count": 6,
     "metadata": {},
     "output_type": "execute_result"
    }
   ],
   "source": [
    "# Importing the dataset\n",
    "df = pd.read_csv('Methane_final.csv')\n",
    "df.head()"
   ]
  },
  {
   "cell_type": "code",
   "execution_count": 7,
   "metadata": {},
   "outputs": [
    {
     "name": "stdout",
     "output_type": "stream",
     "text": [
      "There are 1548 rows and 9 columns in this dataset\n"
     ]
    }
   ],
   "source": [
    "# Let check the total rows and columns in this dataframe\n",
    "data_shape = df.shape\n",
    "print(\"There are {} rows and {} columns in this dataset\".format(data_shape[0],data_shape[1]))"
   ]
  },
  {
   "cell_type": "code",
   "execution_count": 8,
   "metadata": {},
   "outputs": [
    {
     "name": "stdout",
     "output_type": "stream",
     "text": [
      "There are no null values in this dataset\n"
     ]
    }
   ],
   "source": [
    "# Let check for null values\n",
    "df.isnull().sum()\n",
    "print(\"There are no null values in this dataset\")"
   ]
  },
  {
   "cell_type": "code",
   "execution_count": 9,
   "metadata": {},
   "outputs": [],
   "source": [
    "# Let the delete the unamed:0 column\n",
    "df = df.drop(['Unnamed: 0'], axis=1)"
   ]
  },
  {
   "cell_type": "code",
   "execution_count": 10,
   "metadata": {},
   "outputs": [
    {
     "data": {
      "text/html": [
       "<div>\n",
       "<style scoped>\n",
       "    .dataframe tbody tr th:only-of-type {\n",
       "        vertical-align: middle;\n",
       "    }\n",
       "\n",
       "    .dataframe tbody tr th {\n",
       "        vertical-align: top;\n",
       "    }\n",
       "\n",
       "    .dataframe thead th {\n",
       "        text-align: right;\n",
       "    }\n",
       "</style>\n",
       "<table border=\"1\" class=\"dataframe\">\n",
       "  <thead>\n",
       "    <tr style=\"text-align: right;\">\n",
       "      <th></th>\n",
       "      <th>region</th>\n",
       "      <th>country</th>\n",
       "      <th>emissions</th>\n",
       "      <th>type</th>\n",
       "      <th>segment</th>\n",
       "      <th>reason</th>\n",
       "      <th>baseYear</th>\n",
       "      <th>notes</th>\n",
       "    </tr>\n",
       "  </thead>\n",
       "  <tbody>\n",
       "    <tr>\n",
       "      <th>43</th>\n",
       "      <td>Africa</td>\n",
       "      <td>Botswana</td>\n",
       "      <td>0.031258</td>\n",
       "      <td>Energy</td>\n",
       "      <td>Onshore gas</td>\n",
       "      <td>Vented</td>\n",
       "      <td>2022</td>\n",
       "      <td>Not available</td>\n",
       "    </tr>\n",
       "    <tr>\n",
       "      <th>57</th>\n",
       "      <td>Africa</td>\n",
       "      <td>Cameroon</td>\n",
       "      <td>68.878098</td>\n",
       "      <td>Energy</td>\n",
       "      <td>Offshore oil</td>\n",
       "      <td>Vented</td>\n",
       "      <td>2022</td>\n",
       "      <td>Not available</td>\n",
       "    </tr>\n",
       "    <tr>\n",
       "      <th>275</th>\n",
       "      <td>Africa</td>\n",
       "      <td>Namibia</td>\n",
       "      <td>15.859239</td>\n",
       "      <td>Waste</td>\n",
       "      <td>Total</td>\n",
       "      <td>All</td>\n",
       "      <td>2019-2021</td>\n",
       "      <td>Average based on United Nations Framework Conv...</td>\n",
       "    </tr>\n",
       "    <tr>\n",
       "      <th>1531</th>\n",
       "      <td>World</td>\n",
       "      <td>World</td>\n",
       "      <td>1370.260010</td>\n",
       "      <td>Energy</td>\n",
       "      <td>Offshore gas</td>\n",
       "      <td>Fugitive</td>\n",
       "      <td>2022</td>\n",
       "      <td>Not available</td>\n",
       "    </tr>\n",
       "    <tr>\n",
       "      <th>872</th>\n",
       "      <td>Europe</td>\n",
       "      <td>Denmark</td>\n",
       "      <td>40.268757</td>\n",
       "      <td>Waste</td>\n",
       "      <td>Total</td>\n",
       "      <td>All</td>\n",
       "      <td>2019-2021</td>\n",
       "      <td>Average based on United Nations Framework Conv...</td>\n",
       "    </tr>\n",
       "    <tr>\n",
       "      <th>379</th>\n",
       "      <td>Africa</td>\n",
       "      <td>Tanzania</td>\n",
       "      <td>227.552979</td>\n",
       "      <td>Waste</td>\n",
       "      <td>Total</td>\n",
       "      <td>All</td>\n",
       "      <td>2019-2021</td>\n",
       "      <td>Average based on United Nations Framework Conv...</td>\n",
       "    </tr>\n",
       "    <tr>\n",
       "      <th>476</th>\n",
       "      <td>Asia Pacific</td>\n",
       "      <td>China</td>\n",
       "      <td>376.700684</td>\n",
       "      <td>Energy</td>\n",
       "      <td>Other from oil and gas</td>\n",
       "      <td>All</td>\n",
       "      <td>2022</td>\n",
       "      <td>Estimates from end-uses are for 2020 or 2021 (...</td>\n",
       "    </tr>\n",
       "    <tr>\n",
       "      <th>859</th>\n",
       "      <td>Europe</td>\n",
       "      <td>Denmark</td>\n",
       "      <td>240.093613</td>\n",
       "      <td>Agriculture</td>\n",
       "      <td>Total</td>\n",
       "      <td>All</td>\n",
       "      <td>2019-2021</td>\n",
       "      <td>Average based on United Nations Framework Conv...</td>\n",
       "    </tr>\n",
       "    <tr>\n",
       "      <th>739</th>\n",
       "      <td>Central and South America</td>\n",
       "      <td>Colombia</td>\n",
       "      <td>15.713400</td>\n",
       "      <td>Energy</td>\n",
       "      <td>Onshore oil</td>\n",
       "      <td>Flared</td>\n",
       "      <td>2022</td>\n",
       "      <td>Not available</td>\n",
       "    </tr>\n",
       "    <tr>\n",
       "      <th>1431</th>\n",
       "      <td>Russia &amp; Caspian</td>\n",
       "      <td>Azerbaijan</td>\n",
       "      <td>0.380000</td>\n",
       "      <td>Energy</td>\n",
       "      <td>Bioenergy</td>\n",
       "      <td>All</td>\n",
       "      <td>2022</td>\n",
       "      <td>Estimates from end-uses are for 2020 or 2021 (...</td>\n",
       "    </tr>\n",
       "  </tbody>\n",
       "</table>\n",
       "</div>"
      ],
      "text/plain": [
       "                         region     country    emissions         type   \n",
       "43                       Africa    Botswana     0.031258       Energy  \\\n",
       "57                       Africa    Cameroon    68.878098       Energy   \n",
       "275                      Africa     Namibia    15.859239        Waste   \n",
       "1531                      World       World  1370.260010       Energy   \n",
       "872                      Europe     Denmark    40.268757        Waste   \n",
       "379                      Africa    Tanzania   227.552979        Waste   \n",
       "476                Asia Pacific       China   376.700684       Energy   \n",
       "859                      Europe     Denmark   240.093613  Agriculture   \n",
       "739   Central and South America    Colombia    15.713400       Energy   \n",
       "1431           Russia & Caspian  Azerbaijan     0.380000       Energy   \n",
       "\n",
       "                     segment    reason   baseYear   \n",
       "43               Onshore gas    Vented       2022  \\\n",
       "57              Offshore oil    Vented       2022   \n",
       "275                    Total       All  2019-2021   \n",
       "1531            Offshore gas  Fugitive       2022   \n",
       "872                    Total       All  2019-2021   \n",
       "379                    Total       All  2019-2021   \n",
       "476   Other from oil and gas       All       2022   \n",
       "859                    Total       All  2019-2021   \n",
       "739              Onshore oil    Flared       2022   \n",
       "1431               Bioenergy       All       2022   \n",
       "\n",
       "                                                  notes  \n",
       "43                                        Not available  \n",
       "57                                        Not available  \n",
       "275   Average based on United Nations Framework Conv...  \n",
       "1531                                      Not available  \n",
       "872   Average based on United Nations Framework Conv...  \n",
       "379   Average based on United Nations Framework Conv...  \n",
       "476   Estimates from end-uses are for 2020 or 2021 (...  \n",
       "859   Average based on United Nations Framework Conv...  \n",
       "739                                       Not available  \n",
       "1431  Estimates from end-uses are for 2020 or 2021 (...  "
      ]
     },
     "execution_count": 10,
     "metadata": {},
     "output_type": "execute_result"
    }
   ],
   "source": [
    "df.sample(10)"
   ]
  },
  {
   "cell_type": "code",
   "execution_count": 11,
   "metadata": {},
   "outputs": [
    {
     "name": "stdout",
     "output_type": "stream",
     "text": [
      "['2019-2021' '2022']\n",
      "object\n"
     ]
    }
   ],
   "source": [
    "# Let check the baseYear column\n",
    "print(df.baseYear.unique())\n",
    "print(df['baseYear'].dtypes)\n",
    "# The dates column is not supposed be an object type"
   ]
  },
  {
   "cell_type": "code",
   "execution_count": 12,
   "metadata": {},
   "outputs": [
    {
     "name": "stdout",
     "output_type": "stream",
     "text": [
      "['2019-2021' '2022']\n",
      "object\n"
     ]
    }
   ],
   "source": [
    "# Let check the baseYear column\n",
    "print(df.baseYear.unique())\n",
    "print(df['baseYear'].dtypes)\n",
    "# The dates column is not supposed be an object type"
   ]
  },
  {
   "cell_type": "code",
   "execution_count": 13,
   "metadata": {},
   "outputs": [
    {
     "data": {
      "text/plain": [
       "region\n",
       "Africa                        54197.15\n",
       "Asia Pacific                 177699.61\n",
       "Central and South America     45639.99\n",
       "Europe                        49209.00\n",
       "Middle East                   38095.80\n",
       "North America                 63347.41\n",
       "Other                         15997.36\n",
       "Russia & Caspian              62421.61\n",
       "World                        489152.32\n",
       "Name: emissions, dtype: float64"
      ]
     },
     "execution_count": 13,
     "metadata": {},
     "output_type": "execute_result"
    }
   ],
   "source": [
    "# Let group the Region that has the most emissions and round it to 2 decimal place\n",
    "region_emission = df.groupby('region')['emissions'].sum().round(2)\n",
    "region_emission"
   ]
  },
  {
   "cell_type": "code",
   "execution_count": 14,
   "metadata": {},
   "outputs": [],
   "source": [
    "jj = df[['region','emissions']]"
   ]
  },
  {
   "cell_type": "code",
   "execution_count": 15,
   "metadata": {},
   "outputs": [
    {
     "data": {
      "application/vnd.jupyter.widget-view+json": {
       "model_id": "4dc7e5a1eb484c269a936df4ef95666a",
       "version_major": 2,
       "version_minor": 0
      },
      "text/plain": [
       "QuickVisualize()"
      ]
     },
     "execution_count": 15,
     "metadata": {},
     "output_type": "execute_result"
    }
   ],
   "source": [
    "QuickVisualize(get_dataset_config(jj), auth=auth)"
   ]
  },
  {
   "cell_type": "code",
   "execution_count": null,
   "metadata": {},
   "outputs": [],
   "source": []
  },
  {
   "cell_type": "code",
   "execution_count": null,
   "metadata": {},
   "outputs": [],
   "source": []
  },
  {
   "cell_type": "code",
   "execution_count": null,
   "metadata": {},
   "outputs": [],
   "source": []
  }
 ],
 "metadata": {
  "kernelspec": {
   "display_name": "Python 3 (ipykernel)",
   "language": "python",
   "name": "python3"
  },
  "language_info": {
   "codemirror_mode": {
    "name": "ipython",
    "version": 3
   },
   "file_extension": ".py",
   "mimetype": "text/x-python",
   "name": "python",
   "nbconvert_exporter": "python",
   "pygments_lexer": "ipython3",
   "version": "3.10.4"
  },
  "orig_nbformat": 4
 },
 "nbformat": 4,
 "nbformat_minor": 2
}
