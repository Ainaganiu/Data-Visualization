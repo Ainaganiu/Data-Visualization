{
 "cells": [
  {
   "cell_type": "code",
   "execution_count": 1,
   "metadata": {},
   "outputs": [
    {
     "name": "stdout",
     "output_type": "stream",
     "text": [
      "Eternals\n"
     ]
    }
   ],
   "source": [
    "from bs4 import BeautifulSoup\n",
    "import requests\n",
    "try:\n",
    "    source = requests.get('https://www.imdb.com/chart/moviemeter/?ref_=nv_mv_mpm')\n",
    "    source.raise_for_status()\n",
    "    soup = BeautifulSoup(source.text, 'html.parser')\n",
    "    movie = soup.find('tbody', class_= 'lister-list').find_all('tr')\n",
    "    for movies in movie:\n",
    "        name = movies.find('td', class_='titleColumn').a.text\n",
    "        print(name)\n",
    "        break\n",
    "except:\n",
    "    print('error')"
   ]
  }
 ],
 "metadata": {
  "interpreter": {
   "hash": "8fac594bfae6525c0c41b4041d2d72effa188cc8ead05f81b1fab2bb098927fb"
  },
  "kernelspec": {
   "display_name": "Python 3.9.7 64-bit ('base': conda)",
   "language": "python",
   "name": "python3"
  },
  "language_info": {
   "codemirror_mode": {
    "name": "ipython",
    "version": 3
   },
   "file_extension": ".py",
   "mimetype": "text/x-python",
   "name": "python",
   "nbconvert_exporter": "python",
   "pygments_lexer": "ipython3",
   "version": "3.9.7"
  },
  "orig_nbformat": 4
 },
 "nbformat": 4,
 "nbformat_minor": 2
}
