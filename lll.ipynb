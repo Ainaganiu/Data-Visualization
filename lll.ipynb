{
 "cells": [
  {
   "cell_type": "code",
   "execution_count": null,
   "metadata": {},
   "outputs": [],
   "source": []
  },
  {
   "cell_type": "code",
   "execution_count": 23,
   "metadata": {},
   "outputs": [],
   "source": [
    "from bs4 import BeautifulSoup\n",
    "import requests\n",
    "try:\n",
    "    source = requests.get('https://www.premierleague.com/managers?se=418&cl=-1')\n",
    "    source.raise_for_status()\n",
    "    soup = BeautifulSoup(source.text, 'html.parser')\n",
    "    managers = soup.find('tbody', class_='dataContainer').find_all('tr', class_='activeManager')\n",
    "    for manager in managers:\n",
    "        name = manager.find('tbody', class_='managerName').a.text\n",
    "        print(name)\n",
    "except:\n",
    "    print('error')\n"
   ]
  }
 ],
 "metadata": {
  "interpreter": {
   "hash": "8fac594bfae6525c0c41b4041d2d72effa188cc8ead05f81b1fab2bb098927fb"
  },
  "kernelspec": {
   "display_name": "Python 3.9.7 64-bit ('base': conda)",
   "language": "python",
   "name": "python3"
  },
  "language_info": {
   "codemirror_mode": {
    "name": "ipython",
    "version": 3
   },
   "file_extension": ".py",
   "mimetype": "text/x-python",
   "name": "python",
   "nbconvert_exporter": "python",
   "pygments_lexer": "ipython3",
   "version": "3.9.7"
  },
  "orig_nbformat": 4
 },
 "nbformat": 4,
 "nbformat_minor": 2
}
